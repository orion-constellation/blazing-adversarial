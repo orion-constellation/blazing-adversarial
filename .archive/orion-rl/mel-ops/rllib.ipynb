{
 "cells": [
  {
   "cell_type": "code",
   "execution_count": null,
   "metadata": {},
   "outputs": [],
   "source": [
    "%pyenv set 3.11.0\n",
    "RUNS = 0"
   ]
  },
  {
   "cell_type": "code",
   "execution_count": 5,
   "metadata": {},
   "outputs": [
    {
     "name": "stdout",
     "output_type": "stream",
     "text": [
      "^C\n",
      "\n",
      "Note: you may need to restart the kernel to use updated packages.\n",
      "Channels:\n",
      " - conda-forge\n",
      " - defaults\n",
      " - pytorch\n",
      "Platform: osx-arm64\n",
      "Collecting package metadata (repodata.json): ...working... done\n",
      "Solving environment: ...working... \u001b[33m\u001b[1mwarning  libmamba\u001b[m Added empty dependency for problem type SOLVER_RULE_UPDATE\n",
      "failed\n",
      "\n",
      "LibMambaUnsatisfiableError: Encountered problems while solving:\n",
      "  - package ray-rllib-2.10.0-py310hb6292c7_0 requires python >=3.10,<3.11.0a0, but none of the providers can be installed\n",
      "\n",
      "Could not solve for environment specs\n",
      "The following packages are incompatible\n",
      "├─ \u001b[32mpin-1\u001b[0m is installable and it requires\n",
      "│  └─ \u001b[32mpython 3.12.* \u001b[0m, which can be installed;\n",
      "└─ \u001b[31mray-rllib\u001b[0m is not installable because there are no viable options\n",
      "   ├─ \u001b[31mray-rllib [2.10.0|2.3.0|...|2.9.3]\u001b[0m would require\n",
      "   │  └─ \u001b[31mpython >=3.10,<3.11.0a0 \u001b[0m, which conflicts with any installable versions previously reported;\n",
      "   ├─ \u001b[31mray-rllib [2.10.0|2.6.3|...|2.9.3]\u001b[0m would require\n",
      "   │  └─ \u001b[31mpython >=3.11,<3.12.0a0 \u001b[0m, which conflicts with any installable versions previously reported;\n",
      "   ├─ \u001b[31mray-rllib [2.10.0|2.3.0|...|2.9.3]\u001b[0m would require\n",
      "   │  └─ \u001b[31mpython >=3.8,<3.9.0a0 \u001b[0m, which conflicts with any installable versions previously reported;\n",
      "   └─ \u001b[31mray-rllib [2.10.0|2.3.0|...|2.9.3]\u001b[0m would require\n",
      "      └─ \u001b[31mpython >=3.9,<3.10.0a0 \u001b[0m, which conflicts with any installable versions previously reported.\n",
      "\n",
      "\n",
      "Note: you may need to restart the kernel to use updated packages.\n"
     ]
    }
   ],
   "source": [
    "# 3.11.0 Required\n",
    "\n",
    "%conda install pytorch -c pytorch\n",
    "%conda install -q ray-core ray-rllib mlflow wandb python-dotenv accelerate\n",
    "\n",
    "\n"
   ]
  },
  {
   "cell_type": "code",
   "execution_count": 2,
   "metadata": {},
   "outputs": [],
   "source": [
    "# CONSTANTS\n",
    "PROJECT_NAME = \"ThreatHunting-RL\"\n",
    "ENTITY =  \"orionhunts\"\n",
    "!export WANDB_NOTEBOOK_NAME=ENTITY\n"
   ]
  },
  {
   "cell_type": "code",
   "execution_count": null,
   "metadata": {},
   "outputs": [],
   "source": [
    "import torch\n",
    "from accelerate import Accelerator\n",
    "\n",
    "if torch.backends.mps.is_available():\n",
    "    device = \"mps\"\n",
    "elif torch.cuda.is_available():\n",
    "    device = \"cuda:0\"\n",
    "else:\n",
    "    device = \"cpu\"\n"
   ]
  },
  {
   "cell_type": "code",
   "execution_count": null,
   "metadata": {},
   "outputs": [],
   "source": [
    "import os\n",
    "import wandb\n",
    "import mlflow\n",
    "from dotenv import load_dotenv\n",
    "\n",
    "wandb_config = {\n",
    "    \"key\": os.getenv(\"WANDB_API_KEY\"),\n",
    "    \"experiment_name\": \"ThreatHunting-RL\",\n",
    "    \"entity\": \"orionhunts\",\n",
    "    \n",
    "    \n",
    "}\n",
    "mlflow_config = {\n",
    "    \"tracking_uri\": \"http://localhost:5000\",\n",
    "    \n",
    "}\n",
    "\n",
    "mlflow.set_tracking_uri(\"http://localhost:5000\")  # Assuming MLflow server is on localhost\n",
    "!wandb login key=$WANDB_API_KEY')) --relogin\n",
    "wandb.init(name=PROJECT_NAME, entity=ENTITY, config=wandb_config)"
   ]
  },
  {
   "cell_type": "code",
   "execution_count": null,
   "metadata": {},
   "outputs": [],
   "source": [
    "!rllib train --algo DQN --env CartPole-v1 --stop"
   ]
  },
  {
   "cell_type": "code",
   "execution_count": null,
   "metadata": {},
   "outputs": [],
   "source": [
    "!rllib evaluate checkpoint --algo DQN --env CartPole-v1"
   ]
  }
 ],
 "metadata": {
  "kernelspec": {
   "display_name": "Python 3",
   "language": "python",
   "name": "python3"
  },
  "language_info": {
   "codemirror_mode": {
    "name": "ipython",
    "version": 3
   },
   "file_extension": ".py",
   "mimetype": "text/x-python",
   "name": "python",
   "nbconvert_exporter": "python",
   "pygments_lexer": "ipython3",
   "version": "3.12.2"
  }
 },
 "nbformat": 4,
 "nbformat_minor": 2
}
